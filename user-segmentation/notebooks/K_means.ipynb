{
  "nbformat": 4,
  "nbformat_minor": 0,
  "metadata": {
    "colab": {
      "provenance": []
    },
    "kernelspec": {
      "name": "python3",
      "display_name": "Python 3"
    },
    "language_info": {
      "name": "python"
    }
  },
  "cells": [
    {
      "cell_type": "code",
      "execution_count": null,
      "metadata": {
        "id": "xD92UtDlIrN0"
      },
      "outputs": [],
      "source": [
        "import pandas as pd\n",
        "\n",
        "df = pd.read_csv(\"user_features.csv\")\n",
        "print(df.shape)\n",
        "print(df.head())"
      ]
    },
    {
      "cell_type": "code",
      "source": [
        "# Select numerical features\n",
        "\n",
        "X = df[['total_impressions', 'total_clicks', 'total_nonclicks',\n",
        "        'ctr', 'pvalue_level', 'shopping_level']]\n",
        "\n",
        "# Handle missing values (if any)\n",
        "X = X.fillna(0)"
      ],
      "metadata": {
        "id": "_xDpcAuqRwMJ"
      },
      "execution_count": null,
      "outputs": []
    },
    {
      "cell_type": "code",
      "source": [
        "import numpy as np\n",
        "import pandas as pd\n",
        "\n",
        "df['log_impr']  = np.log1p(df['total_impressions'])\n",
        "df['log_click'] = np.log1p(df['total_clicks'])\n",
        "\n",
        "# Apply 99th percentile clipping to suppress extreme outliers\n",
        "for c in ['log_impr','log_click','ctr']:\n",
        "    hi = df[c].quantile(0.99)\n",
        "    lo = df[c].quantile(0.01)\n",
        "    df[c] = df[c].clip(lo, hi)\n",
        "\n",
        "features = ['log_impr','log_click','ctr','pvalue_level','shopping_level','age_level']\n",
        "X = df[features].fillna(0)\n"
      ],
      "metadata": {
        "id": "tpZB-56lYlFj"
      },
      "execution_count": null,
      "outputs": []
    },
    {
      "cell_type": "code",
      "source": [
        "from sklearn.preprocessing import RobustScaler\n",
        "scaler = RobustScaler()\n",
        "X_scaled = scaler.fit_transform(X)\n",
        "\n"
      ],
      "metadata": {
        "id": "JRRq7M_niA4E"
      },
      "execution_count": null,
      "outputs": []
    },
    {
      "cell_type": "code",
      "source": [
        "from sklearn.cluster import KMeans\n",
        "import matplotlib.pyplot as plt\n",
        "\n",
        "sse = []\n",
        "K_range = range(2, 11)  # Try clustering with K values ranging from 2 to 10\n",
        "for k in K_range:\n",
        "    kmeans = KMeans(n_clusters=k, random_state=42, n_init=10)\n",
        "    kmeans.fit(X_scaled)\n",
        "    sse.append(kmeans.inertia_)\n",
        "\n",
        "plt.plot(K_range, sse, marker='o')\n",
        "plt.xlabel(\"Number of clusters (k)\")\n",
        "plt.ylabel(\"SSE (inertia)\")\n",
        "plt.title(\"Elbow Method for Optimal k\")\n",
        "plt.show()"
      ],
      "metadata": {
        "id": "UpRGYKVw_sQ4"
      },
      "execution_count": null,
      "outputs": []
    },
    {
      "cell_type": "code",
      "source": [
        "from sklearn.cluster import KMeans\n",
        "\n",
        "# Set the number of clusters K = 5\n",
        "# (you may also experiment with K = 3, 5, or 6 to compare results)\n",
        "\n",
        "kmeans = KMeans(n_clusters=5, random_state=42, n_init='auto')\n",
        "df['cluster'] = kmeans.fit_predict(X_scaled)\n",
        "\n",
        "print(df[['user_id','cluster']].head())\n"
      ],
      "metadata": {
        "id": "-REN5MGbSSE1"
      },
      "execution_count": null,
      "outputs": []
    },
    {
      "cell_type": "code",
      "source": [
        "print(df['cluster'].value_counts())\n"
      ],
      "metadata": {
        "id": "sttL2K8MSWaR"
      },
      "execution_count": null,
      "outputs": []
    },
    {
      "cell_type": "code",
      "source": [
        "print(df.groupby('cluster')[['total_impressions','total_clicks','ctr','pvalue_level','shopping_level']].mean())\n"
      ],
      "metadata": {
        "id": "jphKou7xSYmr"
      },
      "execution_count": null,
      "outputs": []
    },
    {
      "cell_type": "code",
      "source": [
        "import matplotlib.pyplot as plt\n",
        "\n",
        "plt.scatter(df['total_impressions'], df['ctr'], c=df['cluster'], cmap='viridis', alpha=0.5)\n",
        "plt.xlabel(\"Total Impressions\")\n",
        "plt.ylabel(\"CTR\")\n",
        "plt.title(\"User Segmentation by KMeans\")\n",
        "plt.show()\n"
      ],
      "metadata": {
        "id": "96hBjn_BStkq"
      },
      "execution_count": null,
      "outputs": []
    },
    {
      "cell_type": "code",
      "source": [
        "from sklearn.decomposition import PCA\n",
        "import matplotlib.pyplot as plt\n",
        "\n",
        "pca = PCA(n_components=2)\n",
        "Z = pca.fit_transform(X_scaled)\n",
        "\n",
        "plt.scatter(Z[:,0], Z[:,1], c=df['cluster'], cmap='viridis', s=5, alpha=0.5)\n",
        "plt.xlabel(\"PC1\")\n",
        "plt.ylabel(\"PC2\")\n",
        "plt.title(\"Clusters visualized in PCA space\")\n",
        "plt.show()\n"
      ],
      "metadata": {
        "id": "Xu__Ip_dZoib"
      },
      "execution_count": null,
      "outputs": []
    },
    {
      "cell_type": "code",
      "source": [
        "from sklearn.decomposition import PCA\n",
        "import matplotlib.pyplot as plt\n",
        "from mpl_toolkits.mplot3d import Axes3D\n",
        "\n",
        "# PCA 3D dimensionality reduction\n",
        "pca = PCA(n_components=3, random_state=42)\n",
        "Z = pca.fit_transform(X_scaled)\n",
        "\n",
        "fig = plt.figure(figsize=(10,7))\n",
        "ax = fig.add_subplot(111, projection='3d')\n",
        "\n",
        "sc = ax.scatter(Z[:,0], Z[:,1], Z[:,2],\n",
        "                c=df['cluster'], cmap='viridis', s=5, alpha=0.6)\n",
        "\n",
        "ax.set_xlabel(\"PC1\")\n",
        "ax.set_ylabel(\"PC2\")\n",
        "ax.set_zlabel(\"PC3\")\n",
        "ax.set_title(\"Clusters visualized in 3D PCA space\")\n",
        "\n",
        "plt.colorbar(sc, ax=ax, label=\"Cluster\")\n",
        "plt.show()\n"
      ],
      "metadata": {
        "id": "bIQIZ6pRaEED"
      },
      "execution_count": null,
      "outputs": []
    },
    {
      "cell_type": "code",
      "source": [
        "print(Z.shape, df['cluster'].shape)\n"
      ],
      "metadata": {
        "id": "Lw2yw4yZgYfw"
      },
      "execution_count": null,
      "outputs": []
    },
    {
      "cell_type": "code",
      "source": [
        "import plotly.io as pio\n",
        "pio.renderers.default = \"notebook\"   # \"colab\" / \"notebook_connected\"\n"
      ],
      "metadata": {
        "id": "THoA26l2gZPt"
      },
      "execution_count": null,
      "outputs": []
    },
    {
      "cell_type": "code",
      "source": [
        "\n",
        "\n",
        "import plotly.io as pio\n",
        "pio.renderers.default = \"colab\"\n",
        "\n",
        "import plotly.express as px\n",
        "from sklearn.decomposition import PCA\n",
        "\n",
        "# PCA 3D dimensionality reduction\n",
        "pca = PCA(n_components=3, random_state=42)\n",
        "Z = pca.fit_transform(X_scaled)\n",
        "\n",
        "fig = px.scatter_3d(\n",
        "    x=Z[:,0], y=Z[:,1], z=Z[:,2],\n",
        "    color=df['cluster'].astype(str),\n",
        "    opacity=0.6,\n",
        "    title=\"3D PCA User Clusters\"\n",
        ")\n",
        "fig.show()\n"
      ],
      "metadata": {
        "id": "4NFEluhuaAte"
      },
      "execution_count": null,
      "outputs": []
    },
    {
      "cell_type": "code",
      "source": [
        "!pip install umap-learn\n"
      ],
      "metadata": {
        "id": "lV1Xrzx9cKmI"
      },
      "execution_count": null,
      "outputs": []
    },
    {
      "cell_type": "code",
      "source": [
        "import numpy as np\n",
        "import matplotlib.pyplot as plt\n",
        "import umap.umap_ as umap\n",
        "\n",
        "# ========== random sampling ==========\n",
        "sample_size = 20000\n",
        "rng = np.random.default_rng(seed=42)   # 固定种子\n",
        "idx = rng.choice(len(X_scaled), size=sample_size, replace=False)\n",
        "\n",
        "X_sample = X_scaled[idx]\n",
        "y_sample = df['cluster'].iloc[idx]\n",
        "\n",
        "# ========== UMAP de-dimension ==========\n",
        "reducer = umap.UMAP(\n",
        "    n_neighbors=15,\n",
        "    min_dist=0.1,\n",
        "    metric='euclidean',\n",
        "    random_state=42\n",
        ")\n",
        "\n",
        "Z_umap = reducer.fit_transform(X_sample)\n",
        "\n",
        "# ========== Visualization ==========\n",
        "plt.figure(figsize=(8,6))\n",
        "plt.scatter(Z_umap[:,0], Z_umap[:,1], c=y_sample, cmap='viridis', s=5, alpha=0.5)\n",
        "plt.title(\"Clusters visualized by UMAP (sampled 20k users)\")\n",
        "plt.xlabel(\"UMAP1\")\n",
        "plt.ylabel(\"UMAP2\")\n",
        "plt.show()\n"
      ],
      "metadata": {
        "id": "8EdPWhlveVnM"
      },
      "execution_count": null,
      "outputs": []
    },
    {
      "cell_type": "markdown",
      "source": [],
      "metadata": {
        "id": "5X9UQLkIXkA1"
      }
    },
    {
      "cell_type": "markdown",
      "source": [],
      "metadata": {
        "id": "oh9UwlXgXj-M"
      }
    },
    {
      "cell_type": "markdown",
      "source": [],
      "metadata": {
        "id": "OwazYZzLXj41"
      }
    },
    {
      "cell_type": "markdown",
      "source": [],
      "metadata": {
        "id": "Bu4JnhmeXj04"
      }
    },
    {
      "cell_type": "markdown",
      "source": [],
      "metadata": {
        "id": "Ev3YpgO6XjmC"
      }
    },
    {
      "cell_type": "code",
      "source": [],
      "metadata": {
        "id": "6pZVO8BsWxoO"
      },
      "execution_count": null,
      "outputs": []
    }
  ]
}